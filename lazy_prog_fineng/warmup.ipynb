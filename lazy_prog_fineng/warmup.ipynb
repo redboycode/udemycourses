{
  "nbformat": 4,
  "nbformat_minor": 0,
  "metadata": {
    "colab": {
      "name": "warmup.ipynb",
      "provenance": [],
      "collapsed_sections": [],
      "authorship_tag": "ABX9TyMhBrfGyt+PFF2ttsKMIeHv",
      "include_colab_link": true
    },
    "kernelspec": {
      "name": "python3",
      "display_name": "Python 3"
    },
    "language_info": {
      "name": "python"
    }
  },
  "cells": [
    {
      "cell_type": "markdown",
      "metadata": {
        "id": "view-in-github",
        "colab_type": "text"
      },
      "source": [
        "<a href=\"https://colab.research.google.com/github/redboycode/udemycourses/blob/main/lazy_prog_fineng/warmup.ipynb\" target=\"_parent\"><img src=\"https://colab.research.google.com/assets/colab-badge.svg\" alt=\"Open In Colab\"/></a>"
      ]
    },
    {
      "cell_type": "markdown",
      "metadata": {
        "id": "8WdvcFtmBi8b"
      },
      "source": [
        "**Exercise 1**"
      ]
    },
    {
      "cell_type": "code",
      "metadata": {
        "id": "8XaLRh-v-qw6"
      },
      "source": [
        "import numpy as np\n"
      ],
      "execution_count": 1,
      "outputs": []
    },
    {
      "cell_type": "code",
      "metadata": {
        "id": "uO_SF80Q_e2K"
      },
      "source": [
        "R= np.random.randn(1000)"
      ],
      "execution_count": 2,
      "outputs": []
    },
    {
      "cell_type": "code",
      "metadata": {
        "colab": {
          "base_uri": "https://localhost:8080/"
        },
        "id": "3aOEujyC_snR",
        "outputId": "aa020592-90a3-4e3a-ad72-058baab129e3"
      },
      "source": [
        "R.mean()"
      ],
      "execution_count": 4,
      "outputs": [
        {
          "output_type": "execute_result",
          "data": {
            "text/plain": [
              "0.022030948686045108"
            ]
          },
          "metadata": {
            "tags": []
          },
          "execution_count": 4
        }
      ]
    },
    {
      "cell_type": "code",
      "metadata": {
        "colab": {
          "base_uri": "https://localhost:8080/"
        },
        "id": "y8koaNqz_wYp",
        "outputId": "da4b91c1-bd9e-4dc6-8b1d-bd3504caec5a"
      },
      "source": [
        "R.var()"
      ],
      "execution_count": 5,
      "outputs": [
        {
          "output_type": "execute_result",
          "data": {
            "text/plain": [
              "1.0008273029967583"
            ]
          },
          "metadata": {
            "tags": []
          },
          "execution_count": 5
        }
      ]
    },
    {
      "cell_type": "code",
      "metadata": {
        "id": "RU8NvUhU_z9J"
      },
      "source": [
        "import matplotlib.pyplot as plt"
      ],
      "execution_count": 6,
      "outputs": []
    },
    {
      "cell_type": "code",
      "metadata": {
        "colab": {
          "base_uri": "https://localhost:8080/",
          "height": 282
        },
        "id": "IWT4Ln7v_32o",
        "outputId": "51956a13-8d68-4156-c93b-955e4ac2f450"
      },
      "source": [
        "plt.plot(R)"
      ],
      "execution_count": 7,
      "outputs": [
        {
          "output_type": "execute_result",
          "data": {
            "text/plain": [
              "[<matplotlib.lines.Line2D at 0x7f207cae1110>]"
            ]
          },
          "metadata": {
            "tags": []
          },
          "execution_count": 7
        },
        {
          "output_type": "display_data",
          "data": {
            "image/png": "[encoded data removed]",
            "text/plain": [
              "<Figure size 432x288 with 1 Axes>"
            ]
          },
          "metadata": {
            "tags": [],
            "needs_background": "light"
          }
        }
      ]
    },
    {
      "cell_type": "code",
      "metadata": {
        "colab": {
          "base_uri": "https://localhost:8080/",
          "height": 350
        },
        "id": "ct-PYLFAAHdf",
        "outputId": "90e03a0f-4033-42d2-9041-5da2728d5b72"
      },
      "source": [
        "plt.hist(R)"
      ],
      "execution_count": 8,
      "outputs": [
        {
          "output_type": "execute_result",
          "data": {
            "text/plain": [
              "(array([  4.,   8.,  61., 135., 257., 238., 183.,  87.,  20.,   7.]),\n",
              " array([-3.43664672, -2.769328  , -2.10200928, -1.43469057, -0.76737185,\n",
              "        -0.10005313,  0.56726558,  1.2345843 ,  1.90190302,  2.56922173,\n",
              "         3.23654045]),\n",
              " <a list of 10 Patch objects>)"
            ]
          },
          "metadata": {
            "tags": []
          },
          "execution_count": 8
        },
        {
          "output_type": "display_data",
          "data": {
            "image/png": "[encoded data removed]",
            "text/plain": [
              "<Figure size 432x288 with 1 Axes>"
            ]
          },
          "metadata": {
            "tags": [],
            "needs_background": "light"
          }
        }
      ]
    },
    {
      "cell_type": "markdown",
      "metadata": {
        "id": "WzO2VH8vBteT"
      },
      "source": [
        "**Exercise 2**"
      ]
    },
    {
      "cell_type": "code",
      "metadata": {
        "colab": {
          "base_uri": "https://localhost:8080/"
        },
        "id": "60QKRnAXCCZg",
        "outputId": "0aaea2a3-c6ad-49ff-d2d6-5b3a389b340e"
      },
      "source": [
        "type(R)"
      ],
      "execution_count": 13,
      "outputs": [
        {
          "output_type": "execute_result",
          "data": {
            "text/plain": [
              "numpy.ndarray"
            ]
          },
          "metadata": {
            "tags": []
          },
          "execution_count": 13
        }
      ]
    },
    {
      "cell_type": "code",
      "metadata": {
        "colab": {
          "base_uri": "https://localhost:8080/"
        },
        "id": "JHi6V_E7DbMz",
        "outputId": "ef608d95-2b54-424e-fc9a-35b29ea40336"
      },
      "source": [
        "R[0:50]"
      ],
      "execution_count": 15,
      "outputs": [
        {
          "output_type": "execute_result",
          "data": {
            "text/plain": [
              "array([-0.58310586, -0.87757275, -0.75264732, -0.23290787, -1.56449202,\n",
              "       -0.8249542 , -0.09617762,  0.62837277, -1.55831198, -0.82784331,\n",
              "        0.02687452,  0.84667707,  1.36574649, -0.8817943 , -0.57372317,\n",
              "       -0.65538254, -0.19483541, -1.40341918,  0.17612062,  1.42868799,\n",
              "        1.17479935, -0.10113684,  0.25993763,  1.11548294,  0.64991283,\n",
              "        1.12980013, -0.25492816,  0.06105436, -0.24064924, -0.01795998,\n",
              "        0.88581035,  0.2879394 , -0.63072155, -0.3007798 ,  1.46315342,\n",
              "       -0.31072765,  1.57032609, -0.1872961 ,  1.15875819, -0.0940513 ,\n",
              "       -0.56114152, -1.74972176,  0.4666594 , -1.302865  ,  1.02280369,\n",
              "       -0.0064083 , -0.67232696,  0.142935  ,  1.47330348, -0.79792055])"
            ]
          },
          "metadata": {
            "tags": []
          },
          "execution_count": 15
        }
      ]
    },
    {
      "cell_type": "code",
      "metadata": {
        "colab": {
          "base_uri": "https://localhost:8080/"
        },
        "id": "41cKqK-9DrfC",
        "outputId": "022bb714-3028-47ff-86d7-cc29da8d4394"
      },
      "source": [
        "R[50:100]"
      ],
      "execution_count": 18,
      "outputs": [
        {
          "output_type": "execute_result",
          "data": {
            "text/plain": [
              "array([ 0.73852718,  0.05777891,  0.1702342 ,  0.10309077,  0.36284079,\n",
              "       -1.34812583,  0.83454594,  0.28210747,  0.9983811 , -0.80777662,\n",
              "       -0.82567505,  0.54978714,  1.82478859,  2.26488392, -1.35322307,\n",
              "        1.88533893,  0.62974892, -1.67409302, -0.73458868,  1.1779504 ,\n",
              "        0.80804589,  0.45350174, -0.68378006,  0.48235329,  0.65527078,\n",
              "       -0.45129611,  0.72981117, -0.89552332, -1.61733922, -0.57293688,\n",
              "        0.47610206, -0.08602517,  0.29216654,  0.08761871,  0.42490389,\n",
              "       -0.82703166, -1.04866781,  0.29334635, -0.23282549,  0.80892534,\n",
              "        0.05951158,  1.86818353,  1.0337239 ,  0.24144138, -0.71718679,\n",
              "        0.17564479,  1.59389958,  0.30900984, -0.28380114,  1.61618361])"
            ]
          },
          "metadata": {
            "tags": []
          },
          "execution_count": 18
        }
      ]
    },
    {
      "cell_type": "code",
      "metadata": {
        "colab": {
          "base_uri": "https://localhost:8080/",
          "height": 282
        },
        "id": "_jPWrv8qDvbB",
        "outputId": "f457fce4-3427-4365-b914-b85e5cf302b2"
      },
      "source": [
        "plt.scatter(R[0:500],R[500:1000])"
      ],
      "execution_count": 19,
      "outputs": [
        {
          "output_type": "execute_result",
          "data": {
            "text/plain": [
              "<matplotlib.collections.PathCollection at 0x7f2078406b10>"
            ]
          },
          "metadata": {
            "tags": []
          },
          "execution_count": 19
        },
        {
          "output_type": "display_data",
          "data": {
            "image/png": "[encoded data removed]",
            "text/plain": [
              "<Figure size 432x288 with 1 Axes>"
            ]
          },
          "metadata": {
            "tags": [],
            "needs_background": "light"
          }
        }
      ]
    },
    {
      "cell_type": "markdown",
      "metadata": {
        "id": "p0efCIlLEjIw"
      },
      "source": [
        "**Exercise 3**"
      ]
    },
    {
      "cell_type": "code",
      "metadata": {
        "id": "h1aHcssgEmAH"
      },
      "source": [
        "cumsummed = np.cumsum(R)"
      ],
      "execution_count": 20,
      "outputs": []
    },
    {
      "cell_type": "code",
      "metadata": {
        "colab": {
          "base_uri": "https://localhost:8080/",
          "height": 282
        },
        "id": "YNKOVQv2EpYe",
        "outputId": "7be01b0a-27fc-4897-8abf-a193c257078a"
      },
      "source": [
        "plt.plot(cumsummed)"
      ],
      "execution_count": 23,
      "outputs": [
        {
          "output_type": "execute_result",
          "data": {
            "text/plain": [
              "[<matplotlib.lines.Line2D at 0x7f207831dcd0>]"
            ]
          },
          "metadata": {
            "tags": []
          },
          "execution_count": 23
        },
        {
          "output_type": "display_data",
          "data": {
            "image/png": "[encoded data removed]",
            "text/plain": [
              "<Figure size 432x288 with 1 Axes>"
            ]
          },
          "metadata": {
            "tags": [],
            "needs_background": "light"
          }
        }
      ]
    },
    {
      "cell_type": "markdown",
      "metadata": {
        "id": "JWrS6cagFAbO"
      },
      "source": [
        "**Exercise 4**"
      ]
    },
    {
      "cell_type": "code",
      "metadata": {
        "colab": {
          "base_uri": "https://localhost:8080/"
        },
        "id": "7NFPPsgMFE_e",
        "outputId": "b7e183fa-e924-480b-fedd-f38ff1ce2dd7"
      },
      "source": [
        "#multivariate normal next\n",
        "mean=[0,0]\n",
        "cov = [[1,-0.5],[-0.5,2]]\n",
        "MVD =np.random.multivariate_normal(mean,cov,size=1000)\n",
        "MVD.shape"
      ],
      "execution_count": 29,
      "outputs": [
        {
          "output_type": "execute_result",
          "data": {
            "text/plain": [
              "(1000, 2)"
            ]
          },
          "metadata": {
            "tags": []
          },
          "execution_count": 29
        }
      ]
    },
    {
      "cell_type": "code",
      "metadata": {
        "colab": {
          "base_uri": "https://localhost:8080/"
        },
        "id": "6oYCpVtKHwks",
        "outputId": "ced8b210-6909-4c2f-f062-b108af5e54ac"
      },
      "source": [
        "MVD"
      ],
      "execution_count": 48,
      "outputs": [
        {
          "output_type": "execute_result",
          "data": {
            "text/plain": [
              "array([[-0.49796228,  2.20751184],\n",
              "       [ 0.04891949, -2.3152038 ],\n",
              "       [-0.58640867, -2.34146755],\n",
              "       ...,\n",
              "       [ 0.49355598,  0.5858817 ],\n",
              "       [-0.11846077,  0.13340964],\n",
              "       [ 2.61323646, -1.75483975]])"
            ]
          },
          "metadata": {
            "tags": []
          },
          "execution_count": 48
        }
      ]
    },
    {
      "cell_type": "code",
      "metadata": {
        "colab": {
          "base_uri": "https://localhost:8080/",
          "height": 282
        },
        "id": "kAz4IYcrFo5b",
        "outputId": "bdb91b0e-55b2-4b35-ad18-57a97dcfd10c"
      },
      "source": [
        "plt.scatter(MVD[:,0],MVD[:,1]) #take column 1 and column 2 and scatter them up..1st col is x axis and second is y axis"
      ],
      "execution_count": 36,
      "outputs": [
        {
          "output_type": "execute_result",
          "data": {
            "text/plain": [
              "<matplotlib.collections.PathCollection at 0x7f207797c6d0>"
            ]
          },
          "metadata": {
            "tags": []
          },
          "execution_count": 36
        },
        {
          "output_type": "display_data",
          "data": {
            "image/png": "[encoded data removed]",
            "text/plain": [
              "<Figure size 432x288 with 1 Axes>"
            ]
          },
          "metadata": {
            "tags": [],
            "needs_background": "light"
          }
        }
      ]
    },
    {
      "cell_type": "markdown",
      "metadata": {
        "id": "JhrdQyG9HWT-"
      },
      "source": [
        "**Exercise 5**"
      ]
    },
    {
      "cell_type": "code",
      "metadata": {
        "colab": {
          "base_uri": "https://localhost:8080/"
        },
        "id": "GpRWnVa1HY7d",
        "outputId": "8fccc62d-a68c-4eae-9174-0693209adbcd"
      },
      "source": [
        "#calc sample mean and sample cov from the data above\n",
        "MVD.mean(axis=0) #mean of each column\n",
        "np.mean(MVD, axis=0)"
      ],
      "execution_count": 75,
      "outputs": [
        {
          "output_type": "execute_result",
          "data": {
            "text/plain": [
              "array([-0.04299927, -0.00598711])"
            ]
          },
          "metadata": {
            "tags": []
          },
          "execution_count": 75
        }
      ]
    },
    {
      "cell_type": "code",
      "metadata": {
        "colab": {
          "base_uri": "https://localhost:8080/"
        },
        "id": "CDUX__VKHoMs",
        "outputId": "a8cd1a80-99b6-4b5d-976a-8ccb3f06cdef"
      },
      "source": [
        "np.cov(MVD[:,0], MVD[:,1]) #var of 1st column\n"
      ],
      "execution_count": 70,
      "outputs": [
        {
          "output_type": "execute_result",
          "data": {
            "text/plain": [
              "array([[ 0.96630752, -0.54111393],\n",
              "       [-0.54111393,  1.98353915]])"
            ]
          },
          "metadata": {
            "tags": []
          },
          "execution_count": 70
        }
      ]
    },
    {
      "cell_type": "code",
      "metadata": {
        "id": "IUtqYHrGJEXe"
      },
      "source": [
        "# we see mean is near zero , and column 1 variance is near 1 whilst column 2 variance is near 2\n",
        "# this makes sense given mean vector 0 and covariance matrix where diagonals are 1,2 \n",
        "#this all matches original exercise 4 inputs\n",
        "#we check for sum below\n",
        "mvdcol1=MVD[:,0].sum()\n",
        "mvdcol2=MVD[:,1].sum()"
      ],
      "execution_count": 72,
      "outputs": []
    },
    {
      "cell_type": "code",
      "metadata": {
        "colab": {
          "base_uri": "https://localhost:8080/"
        },
        "id": "JWMFRF4jJ_nn",
        "outputId": "97676c3b-99f4-479d-ec13-987412b32ba3"
      },
      "source": [
        "mvdcol1/1000, mvdcol2/1000"
      ],
      "execution_count": 73,
      "outputs": [
        {
          "output_type": "execute_result",
          "data": {
            "text/plain": [
              "(-0.04299926585380797, -0.005987109881628307)"
            ]
          },
          "metadata": {
            "tags": []
          },
          "execution_count": 73
        }
      ]
    },
    {
      "cell_type": "code",
      "metadata": {
        "id": "qcg1YSvNKcbg"
      },
      "source": [
        ""
      ],
      "execution_count": null,
      "outputs": []
    }
  ]
}