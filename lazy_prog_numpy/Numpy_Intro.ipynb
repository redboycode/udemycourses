{
  "nbformat": 4,
  "nbformat_minor": 0,
  "metadata": {
    "colab": {
      "name": "Numpy Intro.ipynb",
      "provenance": [],
      "collapsed_sections": [],
      "toc_visible": true,
      "authorship_tag": "ABX9TyMAQViZBaA9udTS5IobHvC8",
      "include_colab_link": true
    },
    "kernelspec": {
      "name": "python3",
      "display_name": "Python 3"
    }
  },
  "cells": [
    {
      "cell_type": "markdown",
      "metadata": {
        "id": "view-in-github",
        "colab_type": "text"
      },
      "source": [
        "<a href=\"https://colab.research.google.com/github/redboycode/udemycourses/blob/main/lazy_prog_numpy/Numpy_Intro.ipynb\" target=\"_parent\"><img src=\"https://colab.research.google.com/assets/colab-badge.svg\" alt=\"Open In Colab\"/></a>"
      ]
    },
    {
      "cell_type": "markdown",
      "metadata": {
        "id": "_UTWIC3Ke_fJ"
      },
      "source": [
        "# Arrays vs Lists"
      ]
    },
    {
      "cell_type": "code",
      "metadata": {
        "id": "EP3Melz7XehG"
      },
      "source": [
        "import numpy as np"
      ],
      "execution_count": 1,
      "outputs": []
    },
    {
      "cell_type": "code",
      "metadata": {
        "id": "D7xHGbspexxH"
      },
      "source": [
        "L = [1,2,3]"
      ],
      "execution_count": 2,
      "outputs": []
    },
    {
      "cell_type": "code",
      "metadata": {
        "id": "OOJGZotWfWEX"
      },
      "source": [
        "A = np.array([1,2,3])"
      ],
      "execution_count": 3,
      "outputs": []
    },
    {
      "cell_type": "code",
      "metadata": {
        "colab": {
          "base_uri": "https://localhost:8080/"
        },
        "id": "-NU5N9JWfarm",
        "outputId": "7e5a081a-f9a2-441a-8bd0-96493902db5d"
      },
      "source": [
        "for e in L:\r\n",
        "  print(e)"
      ],
      "execution_count": 4,
      "outputs": [
        {
          "output_type": "stream",
          "text": [
            "1\n",
            "2\n",
            "3\n"
          ],
          "name": "stdout"
        }
      ]
    },
    {
      "cell_type": "code",
      "metadata": {
        "colab": {
          "base_uri": "https://localhost:8080/"
        },
        "id": "XcISHH_1fhyG",
        "outputId": "82e02256-7789-4b73-bb6a-21ba61492b4f"
      },
      "source": [
        "for e in A:\r\n",
        "  print(e)"
      ],
      "execution_count": 5,
      "outputs": [
        {
          "output_type": "stream",
          "text": [
            "1\n",
            "2\n",
            "3\n"
          ],
          "name": "stdout"
        }
      ]
    },
    {
      "cell_type": "code",
      "metadata": {
        "id": "eEaXxJNzfmu-"
      },
      "source": [
        "L.append(4)"
      ],
      "execution_count": 6,
      "outputs": []
    },
    {
      "cell_type": "code",
      "metadata": {
        "colab": {
          "base_uri": "https://localhost:8080/"
        },
        "id": "MGs1rcFQfq8l",
        "outputId": "08543e04-79b9-4c87-9f51-19b3469ae64e"
      },
      "source": [
        "L"
      ],
      "execution_count": 7,
      "outputs": [
        {
          "output_type": "execute_result",
          "data": {
            "text/plain": [
              "[1, 2, 3, 4]"
            ]
          },
          "metadata": {
            "tags": []
          },
          "execution_count": 7
        }
      ]
    },
    {
      "cell_type": "code",
      "metadata": {
        "colab": {
          "base_uri": "https://localhost:8080/",
          "height": 163
        },
        "id": "s_G9jK4xftpN",
        "outputId": "474353c2-53f4-4718-da6e-a966752914e1"
      },
      "source": [
        "A.append(4) #wont work because no append function"
      ],
      "execution_count": null,
      "outputs": [
        {
          "output_type": "error",
          "ename": "AttributeError",
          "evalue": "ignored",
          "traceback": [
            "\u001b[0;31m---------------------------------------------------------------------------\u001b[0m",
            "\u001b[0;31mAttributeError\u001b[0m                            Traceback (most recent call last)",
            "\u001b[0;32m<ipython-input-12-a17c4d6940c3>\u001b[0m in \u001b[0;36m<module>\u001b[0;34m()\u001b[0m\n\u001b[0;32m----> 1\u001b[0;31m \u001b[0mA\u001b[0m\u001b[0;34m.\u001b[0m\u001b[0mappend\u001b[0m\u001b[0;34m(\u001b[0m\u001b[0;36m4\u001b[0m\u001b[0;34m)\u001b[0m\u001b[0;34m\u001b[0m\u001b[0;34m\u001b[0m\u001b[0m\n\u001b[0m",
            "\u001b[0;31mAttributeError\u001b[0m: 'numpy.ndarray' object has no attribute 'append'"
          ]
        }
      ]
    },
    {
      "cell_type": "code",
      "metadata": {
        "colab": {
          "base_uri": "https://localhost:8080/"
        },
        "id": "nq61KEFzf2Ft",
        "outputId": "f08606a4-8675-499f-9f17-aca3007cf8c7"
      },
      "source": [
        "L + [5] #append or concatenate to list "
      ],
      "execution_count": null,
      "outputs": [
        {
          "output_type": "execute_result",
          "data": {
            "text/plain": [
              "[1, 2, 3, 4, 5]"
            ]
          },
          "metadata": {
            "tags": []
          },
          "execution_count": 17
        }
      ]
    },
    {
      "cell_type": "code",
      "metadata": {
        "colab": {
          "base_uri": "https://localhost:8080/"
        },
        "id": "UYeWRnexgAp0",
        "outputId": "bdb33a32-f4c4-4eef-cdaa-2e76d191dde0"
      },
      "source": [
        "A + np.array([4]) #broadcasting, instead of appending it adds 4 to same element\r\n",
        "# a + operation in numpy does a math operation"
      ],
      "execution_count": null,
      "outputs": [
        {
          "output_type": "execute_result",
          "data": {
            "text/plain": [
              "array([5, 6, 7])"
            ]
          },
          "metadata": {
            "tags": []
          },
          "execution_count": 19
        }
      ]
    },
    {
      "cell_type": "code",
      "metadata": {
        "colab": {
          "base_uri": "https://localhost:8080/"
        },
        "id": "w_7odlQHgWqT",
        "outputId": "571a9daf-7979-4377-c59b-468e057038ba"
      },
      "source": [
        "A+np.array([4,5,6])"
      ],
      "execution_count": null,
      "outputs": [
        {
          "output_type": "execute_result",
          "data": {
            "text/plain": [
              "array([5, 7, 9])"
            ]
          },
          "metadata": {
            "tags": []
          },
          "execution_count": 20
        }
      ]
    },
    {
      "cell_type": "code",
      "metadata": {
        "colab": {
          "base_uri": "https://localhost:8080/",
          "height": 163
        },
        "id": "hPSVC0Bvgix6",
        "outputId": "7ee537a5-d325-4294-e66c-708948664c59"
      },
      "source": [
        "A+np.array([4,5]) # cant add vector of different sizes since A = 1,2,3"
      ],
      "execution_count": null,
      "outputs": [
        {
          "output_type": "error",
          "ename": "ValueError",
          "evalue": "ignored",
          "traceback": [
            "\u001b[0;31m---------------------------------------------------------------------------\u001b[0m",
            "\u001b[0;31mValueError\u001b[0m                                Traceback (most recent call last)",
            "\u001b[0;32m<ipython-input-21-01b6c16c2ac9>\u001b[0m in \u001b[0;36m<module>\u001b[0;34m()\u001b[0m\n\u001b[0;32m----> 1\u001b[0;31m \u001b[0mA\u001b[0m\u001b[0;34m+\u001b[0m\u001b[0mnp\u001b[0m\u001b[0;34m.\u001b[0m\u001b[0marray\u001b[0m\u001b[0;34m(\u001b[0m\u001b[0;34m[\u001b[0m\u001b[0;36m4\u001b[0m\u001b[0;34m,\u001b[0m\u001b[0;36m5\u001b[0m\u001b[0;34m]\u001b[0m\u001b[0;34m)\u001b[0m\u001b[0;34m\u001b[0m\u001b[0;34m\u001b[0m\u001b[0m\n\u001b[0m",
            "\u001b[0;31mValueError\u001b[0m: operands could not be broadcast together with shapes (3,) (2,) "
          ]
        }
      ]
    },
    {
      "cell_type": "code",
      "metadata": {
        "colab": {
          "base_uri": "https://localhost:8080/"
        },
        "id": "9N12esYngpjJ",
        "outputId": "7f40c864-f85e-4967-d9c4-b1931033446b"
      },
      "source": [
        "2* A"
      ],
      "execution_count": null,
      "outputs": [
        {
          "output_type": "execute_result",
          "data": {
            "text/plain": [
              "array([2, 4, 6])"
            ]
          },
          "metadata": {
            "tags": []
          },
          "execution_count": 22
        }
      ]
    },
    {
      "cell_type": "code",
      "metadata": {
        "colab": {
          "base_uri": "https://localhost:8080/"
        },
        "id": "OiodCpeYgvM4",
        "outputId": "e451d98b-61a1-41de-b1ec-4c39236644cd"
      },
      "source": [
        "2 * L # for list multiply does repetition, for array above it does piecewise multiplication"
      ],
      "execution_count": null,
      "outputs": [
        {
          "output_type": "execute_result",
          "data": {
            "text/plain": [
              "[1, 2, 3, 4, 1, 2, 3, 4]"
            ]
          },
          "metadata": {
            "tags": []
          },
          "execution_count": 23
        }
      ]
    },
    {
      "cell_type": "code",
      "metadata": {
        "colab": {
          "base_uri": "https://localhost:8080/"
        },
        "id": "X4hMP5FBg9V4",
        "outputId": "14a9db53-18a4-4cc0-8b97-05af43de82b8"
      },
      "source": [
        "L + L"
      ],
      "execution_count": null,
      "outputs": [
        {
          "output_type": "execute_result",
          "data": {
            "text/plain": [
              "[1, 2, 3, 4, 1, 2, 3, 4]"
            ]
          },
          "metadata": {
            "tags": []
          },
          "execution_count": 24
        }
      ]
    },
    {
      "cell_type": "code",
      "metadata": {
        "id": "obCj8D9whBCI"
      },
      "source": [
        "#to add a 3 to each element in List L\r\n",
        "L2 = []\r\n",
        "for e in L:\r\n",
        "  L2.append(e+3)"
      ],
      "execution_count": null,
      "outputs": []
    },
    {
      "cell_type": "code",
      "metadata": {
        "colab": {
          "base_uri": "https://localhost:8080/"
        },
        "id": "TUerHua5hRYn",
        "outputId": "411ba641-0f9f-4d70-a724-a59b29ebfd41"
      },
      "source": [
        "L2 # 3 added to each element"
      ],
      "execution_count": null,
      "outputs": [
        {
          "output_type": "execute_result",
          "data": {
            "text/plain": [
              "[4, 5, 6, 7]"
            ]
          },
          "metadata": {
            "tags": []
          },
          "execution_count": 26
        }
      ]
    },
    {
      "cell_type": "code",
      "metadata": {
        "colab": {
          "base_uri": "https://localhost:8080/"
        },
        "id": "9MpT9OuFhVgf",
        "outputId": "92c0c890-9147-4d7b-ab4b-7f359583e0f7"
      },
      "source": [
        "L2 = [e + 3 for e in L] # list comprehension, the other way to do the above\r\n",
        "L2"
      ],
      "execution_count": null,
      "outputs": [
        {
          "output_type": "execute_result",
          "data": {
            "text/plain": [
              "[4, 5, 6, 7]"
            ]
          },
          "metadata": {
            "tags": []
          },
          "execution_count": 28
        }
      ]
    },
    {
      "cell_type": "code",
      "metadata": {
        "colab": {
          "base_uri": "https://localhost:8080/",
          "height": 163
        },
        "id": "4jL72WWzhcvm",
        "outputId": "e9e65436-3a54-4583-fa6a-6838bff5d180"
      },
      "source": [
        "L**2 #wont work, instead to each wise"
      ],
      "execution_count": null,
      "outputs": [
        {
          "output_type": "error",
          "ename": "TypeError",
          "evalue": "ignored",
          "traceback": [
            "\u001b[0;31m---------------------------------------------------------------------------\u001b[0m",
            "\u001b[0;31mTypeError\u001b[0m                                 Traceback (most recent call last)",
            "\u001b[0;32m<ipython-input-29-99008242ace2>\u001b[0m in \u001b[0;36m<module>\u001b[0;34m()\u001b[0m\n\u001b[0;32m----> 1\u001b[0;31m \u001b[0mL\u001b[0m\u001b[0;34m**\u001b[0m\u001b[0;36m2\u001b[0m\u001b[0;34m\u001b[0m\u001b[0;34m\u001b[0m\u001b[0m\n\u001b[0m",
            "\u001b[0;31mTypeError\u001b[0m: unsupported operand type(s) for ** or pow(): 'list' and 'int'"
          ]
        }
      ]
    },
    {
      "cell_type": "code",
      "metadata": {
        "colab": {
          "base_uri": "https://localhost:8080/"
        },
        "id": "0jVhKJuuhiUW",
        "outputId": "3b7f60e1-00f8-4aac-f3d2-c6020c82b2b5"
      },
      "source": [
        "L2= []\r\n",
        "for e in L:\r\n",
        "  L2.append (e**2)\r\n",
        "L2"
      ],
      "execution_count": null,
      "outputs": [
        {
          "output_type": "execute_result",
          "data": {
            "text/plain": [
              "[1, 4, 9, 16]"
            ]
          },
          "metadata": {
            "tags": []
          },
          "execution_count": 30
        }
      ]
    },
    {
      "cell_type": "code",
      "metadata": {
        "colab": {
          "base_uri": "https://localhost:8080/"
        },
        "id": "PJ1NGOLfhpP1",
        "outputId": "7e45a723-147a-41ba-e98b-49b2b5dd35a1"
      },
      "source": [
        "A**2 #in numpy though , if you apply an operation it often goes element wise\r\n",
        "#from here on you'll see all these methods do elementwise calc, something you cant do in LISTS"
      ],
      "execution_count": null,
      "outputs": [
        {
          "output_type": "execute_result",
          "data": {
            "text/plain": [
              "array([1, 4, 9])"
            ]
          },
          "metadata": {
            "tags": []
          },
          "execution_count": 31
        }
      ]
    },
    {
      "cell_type": "code",
      "metadata": {
        "colab": {
          "base_uri": "https://localhost:8080/"
        },
        "id": "-H1ejH4hhugk",
        "outputId": "fbaea9c3-de11-42e2-b3d7-134e18630178"
      },
      "source": [
        "np.sqrt(A)"
      ],
      "execution_count": null,
      "outputs": [
        {
          "output_type": "execute_result",
          "data": {
            "text/plain": [
              "array([1.        , 1.41421356, 1.73205081])"
            ]
          },
          "metadata": {
            "tags": []
          },
          "execution_count": 32
        }
      ]
    },
    {
      "cell_type": "code",
      "metadata": {
        "colab": {
          "base_uri": "https://localhost:8080/"
        },
        "id": "5fd5Gk75hw2u",
        "outputId": "3684f443-79a2-429a-bc5f-8051355cf62d"
      },
      "source": [
        "np.log(A)"
      ],
      "execution_count": null,
      "outputs": [
        {
          "output_type": "execute_result",
          "data": {
            "text/plain": [
              "array([0.        , 0.69314718, 1.09861229])"
            ]
          },
          "metadata": {
            "tags": []
          },
          "execution_count": 33
        }
      ]
    },
    {
      "cell_type": "code",
      "metadata": {
        "colab": {
          "base_uri": "https://localhost:8080/"
        },
        "id": "CsE_TQJ_hyrM",
        "outputId": "dc5c6962-2363-4793-95bc-436957a46193"
      },
      "source": [
        "np.exp(A)"
      ],
      "execution_count": null,
      "outputs": [
        {
          "output_type": "execute_result",
          "data": {
            "text/plain": [
              "array([ 2.71828183,  7.3890561 , 20.08553692])"
            ]
          },
          "metadata": {
            "tags": []
          },
          "execution_count": 35
        }
      ]
    },
    {
      "cell_type": "code",
      "metadata": {
        "colab": {
          "base_uri": "https://localhost:8080/"
        },
        "id": "KnAayaSgh1Fs",
        "outputId": "7c813108-4084-4836-c974-79476cc56b14"
      },
      "source": [
        "np.tanh(A)"
      ],
      "execution_count": null,
      "outputs": [
        {
          "output_type": "execute_result",
          "data": {
            "text/plain": [
              "array([0.76159416, 0.96402758, 0.99505475])"
            ]
          },
          "metadata": {
            "tags": []
          },
          "execution_count": 36
        }
      ]
    },
    {
      "cell_type": "markdown",
      "metadata": {
        "id": "lX9yfZhkjBLC"
      },
      "source": [
        "# The Dot Product"
      ]
    },
    {
      "cell_type": "code",
      "metadata": {
        "id": "wNS-NZoxjJDA"
      },
      "source": [
        "a=np.array([1,2])\n",
        "b=np.array([3,4])"
      ],
      "execution_count": 29,
      "outputs": []
    },
    {
      "cell_type": "code",
      "metadata": {
        "id": "WlXa_bnxngah"
      },
      "source": [
        "dot=0 # to hold the scalar value which is the answer of dot product [remember cross product is a vector, dot is a scalar]\n",
        "for e,f in zip(a,b):\n",
        "  dot+=e * f"
      ],
      "execution_count": 31,
      "outputs": []
    },
    {
      "cell_type": "code",
      "metadata": {
        "colab": {
          "base_uri": "https://localhost:8080/"
        },
        "id": "zN_qSGsInn97",
        "outputId": "5b640831-cdc8-46f1-94c2-ad0ebc1e39a2"
      },
      "source": [
        "dot #result of above piecewise"
      ],
      "execution_count": 32,
      "outputs": [
        {
          "output_type": "execute_result",
          "data": {
            "text/plain": [
              "11"
            ]
          },
          "metadata": {
            "tags": []
          },
          "execution_count": 32
        }
      ]
    },
    {
      "cell_type": "code",
      "metadata": {
        "colab": {
          "base_uri": "https://localhost:8080/"
        },
        "id": "ApKcDjBrnoz2",
        "outputId": "e80fb429-1d25-4191-fac7-ad4a88ae4937"
      },
      "source": [
        "dot=0 #now we do elementwise but no zip\n",
        "for i in range(len(a)):\n",
        "  dot+=a[i]*b[i]\n",
        "dot"
      ],
      "execution_count": 33,
      "outputs": [
        {
          "output_type": "execute_result",
          "data": {
            "text/plain": [
              "11"
            ]
          },
          "metadata": {
            "tags": []
          },
          "execution_count": 33
        }
      ]
    },
    {
      "cell_type": "code",
      "metadata": {
        "colab": {
          "base_uri": "https://localhost:8080/"
        },
        "id": "_coG3apcn7p5",
        "outputId": "31172954-a641-47e8-9ac5-2b48add82d84"
      },
      "source": [
        "#strait up a times b\n",
        "a*b"
      ],
      "execution_count": 34,
      "outputs": [
        {
          "output_type": "execute_result",
          "data": {
            "text/plain": [
              "array([3, 8])"
            ]
          },
          "metadata": {
            "tags": []
          },
          "execution_count": 34
        }
      ]
    },
    {
      "cell_type": "code",
      "metadata": {
        "colab": {
          "base_uri": "https://localhost:8080/"
        },
        "id": "61SKWXGkoCiG",
        "outputId": "05f150fe-c290-47ca-a16f-d3802655e759"
      },
      "source": [
        "np.sum(a*b) # dot product answer should be 11, the sum of 3+8"
      ],
      "execution_count": 35,
      "outputs": [
        {
          "output_type": "execute_result",
          "data": {
            "text/plain": [
              "11"
            ]
          },
          "metadata": {
            "tags": []
          },
          "execution_count": 35
        }
      ]
    },
    {
      "cell_type": "code",
      "metadata": {
        "colab": {
          "base_uri": "https://localhost:8080/"
        },
        "id": "CEZngioeoEYg",
        "outputId": "0ebfb2d7-c738-4af7-93da-b357ec0832ea"
      },
      "source": [
        "(a*b).sum() #gives us the same as above"
      ],
      "execution_count": 36,
      "outputs": [
        {
          "output_type": "execute_result",
          "data": {
            "text/plain": [
              "11"
            ]
          },
          "metadata": {
            "tags": []
          },
          "execution_count": 36
        }
      ]
    },
    {
      "cell_type": "code",
      "metadata": {
        "colab": {
          "base_uri": "https://localhost:8080/"
        },
        "id": "7_nwN7FzoUXT",
        "outputId": "dd4718a6-7df2-411f-a76c-afa24133d624"
      },
      "source": [
        "np.dot(a,b) #again same"
      ],
      "execution_count": 37,
      "outputs": [
        {
          "output_type": "execute_result",
          "data": {
            "text/plain": [
              "11"
            ]
          },
          "metadata": {
            "tags": []
          },
          "execution_count": 37
        }
      ]
    },
    {
      "cell_type": "code",
      "metadata": {
        "colab": {
          "base_uri": "https://localhost:8080/"
        },
        "id": "DHee5TKsoZKh",
        "outputId": "ba961ab8-5355-40f6-cef1-6eb8b5f0eae3"
      },
      "source": [
        "a.dot(b)  #same as above"
      ],
      "execution_count": 38,
      "outputs": [
        {
          "output_type": "execute_result",
          "data": {
            "text/plain": [
              "11"
            ]
          },
          "metadata": {
            "tags": []
          },
          "execution_count": 38
        }
      ]
    },
    {
      "cell_type": "code",
      "metadata": {
        "colab": {
          "base_uri": "https://localhost:8080/"
        },
        "id": "cQhDwA68oppj",
        "outputId": "cdf8fa31-a38b-4b79-e57f-da4d7d82f347"
      },
      "source": [
        "a @ b #new numpy way"
      ],
      "execution_count": null,
      "outputs": [
        {
          "output_type": "execute_result",
          "data": {
            "text/plain": [
              "11"
            ]
          },
          "metadata": {
            "tags": []
          },
          "execution_count": 55
        }
      ]
    },
    {
      "cell_type": "markdown",
      "metadata": {
        "id": "cExrBKCbqlEk"
      },
      "source": [
        "remember the dot product definition"
      ]
    },
    {
      "cell_type": "markdown",
      "metadata": {
        "id": "EuEFmJKKqf-v"
      },
      "source": [
        "![image.png](data:image/png;base64,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)"
      ]
    },
    {
      "cell_type": "code",
      "metadata": {
        "id": "z9L05q4jot34"
      },
      "source": [
        "amag=np.sqrt((a*a).sum())#norm of the vector"
      ],
      "execution_count": null,
      "outputs": []
    },
    {
      "cell_type": "code",
      "metadata": {
        "colab": {
          "base_uri": "https://localhost:8080/"
        },
        "id": "-q4wALhNp5Xl",
        "outputId": "092fbc58-440b-4ed4-e50b-12192c9dce56"
      },
      "source": [
        "amag"
      ],
      "execution_count": null,
      "outputs": [
        {
          "output_type": "execute_result",
          "data": {
            "text/plain": [
              "2.23606797749979"
            ]
          },
          "metadata": {
            "tags": []
          },
          "execution_count": 57
        }
      ]
    },
    {
      "cell_type": "code",
      "metadata": {
        "colab": {
          "base_uri": "https://localhost:8080/"
        },
        "id": "BICNamwnp6Ec",
        "outputId": "dc9eb21f-574f-4e1e-e2d5-af99f7a6d81d"
      },
      "source": [
        "np.linalg.norm(a)"
      ],
      "execution_count": null,
      "outputs": [
        {
          "output_type": "execute_result",
          "data": {
            "text/plain": [
              "2.23606797749979"
            ]
          },
          "metadata": {
            "tags": []
          },
          "execution_count": 58
        }
      ]
    },
    {
      "cell_type": "code",
      "metadata": {
        "id": "TEsrNwm2qAdp"
      },
      "source": [
        "cosangle=a.dot(b)/(np.linalg.norm(a) * np.linalg.norm(b))"
      ],
      "execution_count": null,
      "outputs": []
    },
    {
      "cell_type": "code",
      "metadata": {
        "colab": {
          "base_uri": "https://localhost:8080/"
        },
        "id": "8_E7M0V5qMCM",
        "outputId": "69aa0f07-25e9-4a86-d661-611101497adc"
      },
      "source": [
        "cosangle #cosine of the angle, to find angle use arc"
      ],
      "execution_count": null,
      "outputs": [
        {
          "output_type": "execute_result",
          "data": {
            "text/plain": [
              "0.9838699100999074"
            ]
          },
          "metadata": {
            "tags": []
          },
          "execution_count": 61
        }
      ]
    },
    {
      "cell_type": "code",
      "metadata": {
        "id": "kRi00ip-qUPp"
      },
      "source": [
        "angle=np.arccos(cosangle)"
      ],
      "execution_count": null,
      "outputs": []
    },
    {
      "cell_type": "code",
      "metadata": {
        "colab": {
          "base_uri": "https://localhost:8080/"
        },
        "id": "B8ZC-tH_qWcc",
        "outputId": "a729b800-f3e6-4f2d-d2d8-57426299d99a"
      },
      "source": [
        "angle #this is in radians, not degrees\n"
      ],
      "execution_count": null,
      "outputs": [
        {
          "output_type": "execute_result",
          "data": {
            "text/plain": [
              "0.17985349979247847"
            ]
          },
          "metadata": {
            "tags": []
          },
          "execution_count": 63
        }
      ]
    },
    {
      "cell_type": "markdown",
      "metadata": {
        "id": "odT5HpkmrJ4z"
      },
      "source": [
        "# Speed Test"
      ]
    },
    {
      "cell_type": "code",
      "metadata": {
        "id": "9_G-fHzbqW-B"
      },
      "source": [
        "from datetime import datetime"
      ],
      "execution_count": null,
      "outputs": []
    },
    {
      "cell_type": "code",
      "metadata": {
        "id": "cCpLtoFarSGY"
      },
      "source": [
        "a=np.random.randn(100)\n",
        "b=np.random.randn(100)\n",
        "T=10000"
      ],
      "execution_count": null,
      "outputs": []
    },
    {
      "cell_type": "code",
      "metadata": {
        "id": "Mx6Ep5h4rbP5"
      },
      "source": [
        "def slow_dot_product(a,b):\n",
        "  result=0\n",
        "  for e,f in zip(a,b):\n",
        "    result+=e*f\n",
        "  return result"
      ],
      "execution_count": null,
      "outputs": []
    },
    {
      "cell_type": "code",
      "metadata": {
        "id": "kZhpcnL8rlix"
      },
      "source": [
        "t0=datetime.now()\n",
        "for t in range(T):\n",
        "  slow_dot_product(a,b)\n",
        "dt1 = datetime.now()-t0\n",
        "\n",
        "t0=datetime.now()\n",
        "for t in range(T):\n",
        "  a.dot(b)\n",
        "dt2=datetime.now()-t0"
      ],
      "execution_count": null,
      "outputs": []
    },
    {
      "cell_type": "code",
      "metadata": {
        "colab": {
          "base_uri": "https://localhost:8080/"
        },
        "id": "hEixVuR0r9mA",
        "outputId": "3a78bb45-e217-4ae4-db46-e26a64617580"
      },
      "source": [
        "print (\"dt1/dt2: \", dt1.total_seconds()/dt2.total_seconds())"
      ],
      "execution_count": null,
      "outputs": [
        {
          "output_type": "stream",
          "text": [
            "dt1/dt2:  62.726441351888674\n"
          ],
          "name": "stdout"
        }
      ]
    },
    {
      "cell_type": "code",
      "metadata": {
        "id": "VqV76aRPsEte"
      },
      "source": [
        "#60+ times faster if using numpy array than using python list for dot products"
      ],
      "execution_count": null,
      "outputs": []
    },
    {
      "cell_type": "code",
      "metadata": {
        "id": "QLwRQDJZsXVo"
      },
      "source": [
        "#whenever you see a summation, you think of looping\n",
        "#now and then its ok, but since numpy is faster\n",
        "#for more advanced cases, you wanna avoid for loops, even if its more challenging\n"
      ],
      "execution_count": null,
      "outputs": []
    },
    {
      "cell_type": "markdown",
      "metadata": {
        "id": "pyU1fMlhtLGd"
      },
      "source": [
        "# MATRICES\n"
      ]
    },
    {
      "cell_type": "code",
      "metadata": {
        "id": "fFrdfa_ztRNw"
      },
      "source": [
        "#matrixes are 2 dimension, numpy array can be any dimension\n",
        "#numpy array can be 3 or 4 dimension, so convert matrix to a numpy array"
      ],
      "execution_count": null,
      "outputs": []
    },
    {
      "cell_type": "code",
      "metadata": {
        "id": "iCBCo8rbtioA"
      },
      "source": [
        "L=[[1,2],[3,4]]"
      ],
      "execution_count": null,
      "outputs": []
    },
    {
      "cell_type": "code",
      "metadata": {
        "colab": {
          "base_uri": "https://localhost:8080/"
        },
        "id": "hETwrpvpuB1m",
        "outputId": "d94893de-7ce0-4c83-f9b8-3881b74267c4"
      },
      "source": [
        "L\n",
        "#first row is 1,2; second row is 3,4"
      ],
      "execution_count": null,
      "outputs": [
        {
          "output_type": "execute_result",
          "data": {
            "text/plain": [
              "[[1, 2], [3, 4]]"
            ]
          },
          "metadata": {
            "tags": []
          },
          "execution_count": 5
        }
      ]
    },
    {
      "cell_type": "code",
      "metadata": {
        "colab": {
          "base_uri": "https://localhost:8080/"
        },
        "id": "jVPTJ0sBuC17",
        "outputId": "e20e7e22-d9a9-4ca1-9e6f-eea22f9c1778"
      },
      "source": [
        "L[0] #rows come first and then column"
      ],
      "execution_count": null,
      "outputs": [
        {
          "output_type": "execute_result",
          "data": {
            "text/plain": [
              "[1, 2]"
            ]
          },
          "metadata": {
            "tags": []
          },
          "execution_count": 6
        }
      ]
    },
    {
      "cell_type": "code",
      "metadata": {
        "colab": {
          "base_uri": "https://localhost:8080/"
        },
        "id": "w4JBIpu2uGZY",
        "outputId": "35a95fe9-88e9-4958-e57c-f9ac47bb4f61"
      },
      "source": [
        "L[0][1] #to get element at column 1 from this row"
      ],
      "execution_count": null,
      "outputs": [
        {
          "output_type": "execute_result",
          "data": {
            "text/plain": [
              "2"
            ]
          },
          "metadata": {
            "tags": []
          },
          "execution_count": 7
        }
      ]
    },
    {
      "cell_type": "code",
      "metadata": {
        "id": "RGTA5AWjuLRU"
      },
      "source": [
        "#now in numpy, notice you pass in the same double bracketted list but this time its a np object\n",
        "A = np.array([[1,2],[3,4]])"
      ],
      "execution_count": 41,
      "outputs": []
    },
    {
      "cell_type": "code",
      "metadata": {
        "colab": {
          "base_uri": "https://localhost:8080/"
        },
        "id": "ytAHF1aLujxF",
        "outputId": "15d39c16-1906-48de-f06b-5f164cc328e5"
      },
      "source": [
        "A"
      ],
      "execution_count": 42,
      "outputs": [
        {
          "output_type": "execute_result",
          "data": {
            "text/plain": [
              "array([[1, 2],\n",
              "       [3, 4]])"
            ]
          },
          "metadata": {
            "tags": []
          },
          "execution_count": 42
        }
      ]
    },
    {
      "cell_type": "code",
      "metadata": {
        "colab": {
          "base_uri": "https://localhost:8080/"
        },
        "id": "gaYEsSAdupwV",
        "outputId": "81f434c6-aa63-4c9d-b0e9-7fe50be7fec8"
      },
      "source": [
        "A[0][1] #retrieval"
      ],
      "execution_count": 43,
      "outputs": [
        {
          "output_type": "execute_result",
          "data": {
            "text/plain": [
              "2"
            ]
          },
          "metadata": {
            "tags": []
          },
          "execution_count": 43
        }
      ]
    },
    {
      "cell_type": "code",
      "metadata": {
        "colab": {
          "base_uri": "https://localhost:8080/"
        },
        "id": "IMMTp4uwu6q4",
        "outputId": "f78f7669-9403-4168-c4fb-390e228de9ce"
      },
      "source": [
        "A[0,1] #same retrieval"
      ],
      "execution_count": 44,
      "outputs": [
        {
          "output_type": "execute_result",
          "data": {
            "text/plain": [
              "2"
            ]
          },
          "metadata": {
            "tags": []
          },
          "execution_count": 44
        }
      ]
    },
    {
      "cell_type": "code",
      "metadata": {
        "colab": {
          "base_uri": "https://localhost:8080/"
        },
        "id": "91DO-eNgu9h5",
        "outputId": "aea6614a-e4fa-402c-f7af-28346c0d5739"
      },
      "source": [
        "#but this where it gets powerful\n",
        "# to pull a column\n",
        "A[:,0]"
      ],
      "execution_count": 45,
      "outputs": [
        {
          "output_type": "execute_result",
          "data": {
            "text/plain": [
              "array([1, 3])"
            ]
          },
          "metadata": {
            "tags": []
          },
          "execution_count": 45
        }
      ]
    },
    {
      "cell_type": "code",
      "metadata": {
        "colab": {
          "base_uri": "https://localhost:8080/"
        },
        "id": "j1JneAKpvFCe",
        "outputId": "45dd82e9-b080-4f3c-836c-6c5e06e4703f"
      },
      "source": [
        "A.T #quick transpose"
      ],
      "execution_count": 46,
      "outputs": [
        {
          "output_type": "execute_result",
          "data": {
            "text/plain": [
              "array([[1, 3],\n",
              "       [2, 4]])"
            ]
          },
          "metadata": {
            "tags": []
          },
          "execution_count": 46
        }
      ]
    },
    {
      "cell_type": "code",
      "metadata": {
        "id": "182926vqvHud"
      },
      "source": [
        "B = np.array([100,101,102])"
      ],
      "execution_count": 49,
      "outputs": []
    },
    {
      "cell_type": "code",
      "metadata": {
        "colab": {
          "base_uri": "https://localhost:8080/",
          "height": 168
        },
        "id": "v8tpIC87q45f",
        "outputId": "eca40b3f-914a-4b2e-f4e2-3f2f85e4ee1d"
      },
      "source": [
        "B.append([104]) #wont work"
      ],
      "execution_count": 50,
      "outputs": [
        {
          "output_type": "error",
          "ename": "AttributeError",
          "evalue": "ignored",
          "traceback": [
            "\u001b[0;31m---------------------------------------------------------------------------\u001b[0m",
            "\u001b[0;31mAttributeError\u001b[0m                            Traceback (most recent call last)",
            "\u001b[0;32m<ipython-input-50-44e62ba08857>\u001b[0m in \u001b[0;36m<module>\u001b[0;34m()\u001b[0m\n\u001b[0;32m----> 1\u001b[0;31m \u001b[0mB\u001b[0m\u001b[0;34m.\u001b[0m\u001b[0mappend\u001b[0m\u001b[0;34m(\u001b[0m\u001b[0;34m[\u001b[0m\u001b[0;36m104\u001b[0m\u001b[0;34m]\u001b[0m\u001b[0;34m)\u001b[0m \u001b[0;31m#wont work\u001b[0m\u001b[0;34m\u001b[0m\u001b[0;34m\u001b[0m\u001b[0m\n\u001b[0m",
            "\u001b[0;31mAttributeError\u001b[0m: 'numpy.ndarray' object has no attribute 'append'"
          ]
        }
      ]
    },
    {
      "cell_type": "code",
      "metadata": {
        "colab": {
          "base_uri": "https://localhost:8080/"
        },
        "id": "my677zD2q61Q",
        "outputId": "6ebe6e14-9c2d-40ad-8534-c78bc7ae2f50"
      },
      "source": [
        "np.append(B,[104]) #appends to a copy, needs to be assigned to something"
      ],
      "execution_count": 51,
      "outputs": [
        {
          "output_type": "execute_result",
          "data": {
            "text/plain": [
              "array([100, 101, 102, 104])"
            ]
          },
          "metadata": {
            "tags": []
          },
          "execution_count": 51
        }
      ]
    },
    {
      "cell_type": "code",
      "metadata": {
        "colab": {
          "base_uri": "https://localhost:8080/"
        },
        "id": "gzk8dbtLrGlI",
        "outputId": "7b90ff13-028f-4f08-b811-ec7fb3519a64"
      },
      "source": [
        "B #because orig remains unch\n"
      ],
      "execution_count": 52,
      "outputs": [
        {
          "output_type": "execute_result",
          "data": {
            "text/plain": [
              "array([100, 101, 102])"
            ]
          },
          "metadata": {
            "tags": []
          },
          "execution_count": 52
        }
      ]
    },
    {
      "cell_type": "code",
      "metadata": {
        "colab": {
          "base_uri": "https://localhost:8080/"
        },
        "id": "6GL0BT42rHpr",
        "outputId": "a3e5e75d-89d1-44a8-8f6a-9c2be2d0235b"
      },
      "source": [
        "np.exp(A)"
      ],
      "execution_count": 53,
      "outputs": [
        {
          "output_type": "execute_result",
          "data": {
            "text/plain": [
              "array([[ 2.71828183,  7.3890561 ],\n",
              "       [20.08553692, 54.59815003]])"
            ]
          },
          "metadata": {
            "tags": []
          },
          "execution_count": 53
        }
      ]
    },
    {
      "cell_type": "code",
      "metadata": {
        "colab": {
          "base_uri": "https://localhost:8080/"
        },
        "id": "Qs1FTtYvLESX",
        "outputId": "fee7147e-f92d-46aa-b1ea-e9f6b9f936a3"
      },
      "source": [
        "np.exp(L)"
      ],
      "execution_count": 54,
      "outputs": [
        {
          "output_type": "execute_result",
          "data": {
            "text/plain": [
              "array([ 2.71828183,  7.3890561 , 20.08553692, 54.59815003])"
            ]
          },
          "metadata": {
            "tags": []
          },
          "execution_count": 54
        }
      ]
    },
    {
      "cell_type": "code",
      "metadata": {
        "id": "rDlbABS8LGjr"
      },
      "source": [
        "B=np.array([[1,2,3],[4,5,6]])"
      ],
      "execution_count": 55,
      "outputs": []
    },
    {
      "cell_type": "code",
      "metadata": {
        "colab": {
          "base_uri": "https://localhost:8080/"
        },
        "id": "WMWCF350dmos",
        "outputId": "5356c426-8f33-4faf-d903-2bdcfcbaf814"
      },
      "source": [
        "B"
      ],
      "execution_count": 56,
      "outputs": [
        {
          "output_type": "execute_result",
          "data": {
            "text/plain": [
              "array([[1, 2, 3],\n",
              "       [4, 5, 6]])"
            ]
          },
          "metadata": {
            "tags": []
          },
          "execution_count": 56
        }
      ]
    },
    {
      "cell_type": "code",
      "metadata": {
        "colab": {
          "base_uri": "https://localhost:8080/"
        },
        "id": "lU_PHbW5W_k2",
        "outputId": "8d0ceb4e-55b3-4136-9b99-af493c5d8229"
      },
      "source": [
        "A"
      ],
      "execution_count": 57,
      "outputs": [
        {
          "output_type": "execute_result",
          "data": {
            "text/plain": [
              "array([[1, 2],\n",
              "       [3, 4]])"
            ]
          },
          "metadata": {
            "tags": []
          },
          "execution_count": 57
        }
      ]
    },
    {
      "cell_type": "code",
      "metadata": {
        "colab": {
          "base_uri": "https://localhost:8080/"
        },
        "id": "4RDnN309doKU",
        "outputId": "3965b5c6-e8d9-42ab-a925-2fa0ae319a19"
      },
      "source": [
        "A.dot(B)"
      ],
      "execution_count": 59,
      "outputs": [
        {
          "output_type": "execute_result",
          "data": {
            "text/plain": [
              "array([[ 9, 12, 15],\n",
              "       [19, 26, 33]])"
            ]
          },
          "metadata": {
            "tags": []
          },
          "execution_count": 59
        }
      ]
    },
    {
      "cell_type": "code",
      "metadata": {
        "colab": {
          "base_uri": "https://localhost:8080/",
          "height": 168
        },
        "id": "vudvDDxYdqYQ",
        "outputId": "1e4fcb0d-fbe7-4c60-b9d7-a346ab4eb59a"
      },
      "source": [
        "A.dot(B.T)"
      ],
      "execution_count": 58,
      "outputs": [
        {
          "output_type": "error",
          "ename": "ValueError",
          "evalue": "ignored",
          "traceback": [
            "\u001b[0;31m---------------------------------------------------------------------------\u001b[0m",
            "\u001b[0;31mValueError\u001b[0m                                Traceback (most recent call last)",
            "\u001b[0;32m<ipython-input-58-80d79729e8e6>\u001b[0m in \u001b[0;36m<module>\u001b[0;34m()\u001b[0m\n\u001b[0;32m----> 1\u001b[0;31m \u001b[0mA\u001b[0m\u001b[0;34m.\u001b[0m\u001b[0mdot\u001b[0m\u001b[0;34m(\u001b[0m\u001b[0mB\u001b[0m\u001b[0;34m.\u001b[0m\u001b[0mT\u001b[0m\u001b[0;34m)\u001b[0m\u001b[0;34m\u001b[0m\u001b[0;34m\u001b[0m\u001b[0m\n\u001b[0m",
            "\u001b[0;31mValueError\u001b[0m: shapes (2,2) and (3,2) not aligned: 2 (dim 1) != 3 (dim 0)"
          ]
        }
      ]
    },
    {
      "cell_type": "code",
      "metadata": {
        "colab": {
          "base_uri": "https://localhost:8080/"
        },
        "id": "Y5W5yYRxiyBD",
        "outputId": "e72171e1-e16e-46a7-974c-a9f42250f56a"
      },
      "source": [
        "np.linalg.det(A)"
      ],
      "execution_count": 60,
      "outputs": [
        {
          "output_type": "execute_result",
          "data": {
            "text/plain": [
              "-2.0000000000000004"
            ]
          },
          "metadata": {
            "tags": []
          },
          "execution_count": 60
        }
      ]
    },
    {
      "cell_type": "code",
      "metadata": {
        "colab": {
          "base_uri": "https://localhost:8080/"
        },
        "id": "ZpIZ0qZ1jCpj",
        "outputId": "6afb0e06-eeec-48a1-809f-fd6709b40aa8"
      },
      "source": [
        "np.linalg.inv(A)"
      ],
      "execution_count": 61,
      "outputs": [
        {
          "output_type": "execute_result",
          "data": {
            "text/plain": [
              "array([[-2. ,  1. ],\n",
              "       [ 1.5, -0.5]])"
            ]
          },
          "metadata": {
            "tags": []
          },
          "execution_count": 61
        }
      ]
    },
    {
      "cell_type": "code",
      "metadata": {
        "colab": {
          "base_uri": "https://localhost:8080/"
        },
        "id": "NRpduTa_jFys",
        "outputId": "a20706c8-cc2e-4203-b981-5df3b3aab300"
      },
      "source": [
        "np.linalg.inv(A).dot(A)"
      ],
      "execution_count": 62,
      "outputs": [
        {
          "output_type": "execute_result",
          "data": {
            "text/plain": [
              "array([[1.00000000e+00, 0.00000000e+00],\n",
              "       [1.11022302e-16, 1.00000000e+00]])"
            ]
          },
          "metadata": {
            "tags": []
          },
          "execution_count": 62
        }
      ]
    },
    {
      "cell_type": "code",
      "metadata": {
        "id": "6PGcNXvQjLSm",
        "colab": {
          "base_uri": "https://localhost:8080/"
        },
        "outputId": "cda01beb-2149-49f0-863d-f54c1ac4079d"
      },
      "source": [
        "np.trace(A)"
      ],
      "execution_count": 63,
      "outputs": [
        {
          "output_type": "execute_result",
          "data": {
            "text/plain": [
              "5"
            ]
          },
          "metadata": {
            "tags": []
          },
          "execution_count": 63
        }
      ]
    },
    {
      "cell_type": "code",
      "metadata": {
        "colab": {
          "base_uri": "https://localhost:8080/"
        },
        "id": "4_iFCIgFav54",
        "outputId": "55784029-11ce-49c7-e10c-f4a6f638fe74"
      },
      "source": [
        "np.diag(A) #gives a vector containing diagonal"
      ],
      "execution_count": 64,
      "outputs": [
        {
          "output_type": "execute_result",
          "data": {
            "text/plain": [
              "array([1, 4])"
            ]
          },
          "metadata": {
            "tags": []
          },
          "execution_count": 64
        }
      ]
    },
    {
      "cell_type": "code",
      "metadata": {
        "colab": {
          "base_uri": "https://localhost:8080/"
        },
        "id": "ZcJnMqQtax27",
        "outputId": "7b31c6c4-3934-4d71-fcba-25f467120328"
      },
      "source": [
        "np.diag([1,4]) #creates a matrix if you give it a vector, populates rest with 0"
      ],
      "execution_count": 65,
      "outputs": [
        {
          "output_type": "execute_result",
          "data": {
            "text/plain": [
              "array([[1, 0],\n",
              "       [0, 4]])"
            ]
          },
          "metadata": {
            "tags": []
          },
          "execution_count": 65
        }
      ]
    },
    {
      "cell_type": "code",
      "metadata": {
        "colab": {
          "base_uri": "https://localhost:8080/"
        },
        "id": "N_Mm5APRa5rU",
        "outputId": "ee5f61e3-d3c2-4b47-c1cf-57df98b07bba"
      },
      "source": [
        "np.linalg.eig(A) #gives one array with eigenvalues, the second is eigenvectors"
      ],
      "execution_count": 66,
      "outputs": [
        {
          "output_type": "execute_result",
          "data": {
            "text/plain": [
              "(array([-0.37228132,  5.37228132]), array([[-0.82456484, -0.41597356],\n",
              "        [ 0.56576746, -0.90937671]]))"
            ]
          },
          "metadata": {
            "tags": []
          },
          "execution_count": 66
        }
      ]
    },
    {
      "cell_type": "code",
      "metadata": {
        "id": "eyfYM8Z9a_WE"
      },
      "source": [
        "Lam, V =np.linalg.eig(A)"
      ],
      "execution_count": 67,
      "outputs": []
    },
    {
      "cell_type": "code",
      "metadata": {
        "colab": {
          "base_uri": "https://localhost:8080/"
        },
        "id": "A5pOQYdabLtO",
        "outputId": "1e2c88aa-54b1-4834-c267-835ba6e4ee02"
      },
      "source": [
        "V[:,0] * Lam[0] == A@ V[:,0] # we expect to see true and true. \n",
        "#the idea is to see if eigenvectors 0th value times 0th eigen value is same as A times 0th eigenvector"
      ],
      "execution_count": 70,
      "outputs": [
        {
          "output_type": "execute_result",
          "data": {
            "text/plain": [
              "array([ True, False])"
            ]
          },
          "metadata": {
            "tags": []
          },
          "execution_count": 70
        }
      ]
    },
    {
      "cell_type": "code",
      "metadata": {
        "colab": {
          "base_uri": "https://localhost:8080/"
        },
        "id": "WnRoDVadcIV5",
        "outputId": "78c4c332-cb13-45cb-c1da-a5027b51954e"
      },
      "source": [
        "V[:,0] * Lam[0] , A@ V[:,0]  # lets see if values are the same on LHS and RHS"
      ],
      "execution_count": 71,
      "outputs": [
        {
          "output_type": "execute_result",
          "data": {
            "text/plain": [
              "(array([ 0.30697009, -0.21062466]), array([ 0.30697009, -0.21062466]))"
            ]
          },
          "metadata": {
            "tags": []
          },
          "execution_count": 71
        }
      ]
    },
    {
      "cell_type": "code",
      "metadata": {
        "colab": {
          "base_uri": "https://localhost:8080/"
        },
        "id": "3MCCHKEqcar5",
        "outputId": "26dbc28a-38a5-4092-c523-6beea432dbd8"
      },
      "source": [
        "# values are same above but the precision comparison is python fails this\n",
        "np.allclose(V[:,0] * Lam[0] , A@ V[:,0]) #use allclose to do precision check"
      ],
      "execution_count": 73,
      "outputs": [
        {
          "output_type": "execute_result",
          "data": {
            "text/plain": [
              "True"
            ]
          },
          "metadata": {
            "tags": []
          },
          "execution_count": 73
        }
      ]
    },
    {
      "cell_type": "code",
      "metadata": {
        "colab": {
          "base_uri": "https://localhost:8080/"
        },
        "id": "GlhqhIMYdHl4",
        "outputId": "f7b22289-915c-4dcb-fde1-40af936df828"
      },
      "source": [
        "np.allclose(V@np.diag(Lam), A@V) # check all elements"
      ],
      "execution_count": 74,
      "outputs": [
        {
          "output_type": "execute_result",
          "data": {
            "text/plain": [
              "True"
            ]
          },
          "metadata": {
            "tags": []
          },
          "execution_count": 74
        }
      ]
    },
    {
      "cell_type": "code",
      "metadata": {
        "id": "urSYiEmhdPcu"
      },
      "source": [
        "#numpy does handle complex numbers\n",
        "#if doing quanty stuff, in practice use\n",
        "#eigen decomposition on symmetic matrix like covariance\n",
        "# so use numpy.linalg.eigh"
      ],
      "execution_count": 75,
      "outputs": []
    },
    {
      "cell_type": "markdown",
      "metadata": {
        "id": "KUe-Kyc8eEHn"
      },
      "source": [
        "# Linear systems\n",
        "\n"
      ]
    },
    {
      "cell_type": "code",
      "metadata": {
        "colab": {
          "base_uri": "https://localhost:8080/"
        },
        "id": "gttdcm2UeMm0",
        "outputId": "2b662aea-e894-43bd-b5f1-0e6d91525991"
      },
      "source": [
        "A=np.array([[1,1],[1.5,4]])\n",
        "A"
      ],
      "execution_count": 79,
      "outputs": [
        {
          "output_type": "execute_result",
          "data": {
            "text/plain": [
              "array([[1. , 1. ],\n",
              "       [1.5, 4. ]])"
            ]
          },
          "metadata": {
            "tags": []
          },
          "execution_count": 79
        }
      ]
    },
    {
      "cell_type": "code",
      "metadata": {
        "colab": {
          "base_uri": "https://localhost:8080/"
        },
        "id": "grOYX65Jf-Bv",
        "outputId": "5c616825-283f-4d36-cf2f-ebdf4328ee17"
      },
      "source": [
        "b=np.array([2200,5050])\n",
        "b"
      ],
      "execution_count": 81,
      "outputs": [
        {
          "output_type": "execute_result",
          "data": {
            "text/plain": [
              "array([2200, 5050])"
            ]
          },
          "metadata": {
            "tags": []
          },
          "execution_count": 81
        }
      ]
    },
    {
      "cell_type": "code",
      "metadata": {
        "colab": {
          "base_uri": "https://localhost:8080/"
        },
        "id": "LoWinudhgAyn",
        "outputId": "235c122b-2871-43f7-94dd-76030a89fdab"
      },
      "source": [
        "np.linalg.solve(A,b) #good way"
      ],
      "execution_count": 82,
      "outputs": [
        {
          "output_type": "execute_result",
          "data": {
            "text/plain": [
              "array([1500.,  700.])"
            ]
          },
          "metadata": {
            "tags": []
          },
          "execution_count": 82
        }
      ]
    },
    {
      "cell_type": "code",
      "metadata": {
        "colab": {
          "base_uri": "https://localhost:8080/"
        },
        "id": "CKBlnlA1gP_0",
        "outputId": "0177fb5b-ae52-42f2-95a6-b51c4dd08261"
      },
      "source": [
        "np.linalg.inv(A).dot(b) # bad way  , it'll be super slow"
      ],
      "execution_count": 84,
      "outputs": [
        {
          "output_type": "execute_result",
          "data": {
            "text/plain": [
              "array([1500.,  700.])"
            ]
          },
          "metadata": {
            "tags": []
          },
          "execution_count": 84
        }
      ]
    },
    {
      "cell_type": "markdown",
      "metadata": {
        "id": "5HuxAAssgci2"
      },
      "source": [
        "\n",
        "\n",
        "\n",
        "# Generating Data"
      ]
    },
    {
      "cell_type": "code",
      "metadata": {
        "id": "OWO0VGqjggjF"
      },
      "source": [
        "#what if we wanna generate data for 100s of dimensions\n",
        "# for data that dont come from excel/csv\n",
        "# you wanna generate large matrices.\n",
        "# example neural net made of lots of matrices to randomly be initialized\n",
        "# also you need to generate synthetic data to test data\n",
        "# in scikit learn, comparison between clustering algos, on different synthetic data, \n",
        "# it shows some algos perform better than others\n"
      ],
      "execution_count": 88,
      "outputs": []
    },
    {
      "cell_type": "code",
      "metadata": {
        "colab": {
          "base_uri": "https://localhost:8080/"
        },
        "id": "qL0pvUQpgrzJ",
        "outputId": "528f5999-282a-4396-bcae-794b134f1da4"
      },
      "source": [
        "np.zeros((2,3))"
      ],
      "execution_count": 89,
      "outputs": [
        {
          "output_type": "execute_result",
          "data": {
            "text/plain": [
              "array([[0., 0., 0.],\n",
              "       [0., 0., 0.]])"
            ]
          },
          "metadata": {
            "tags": []
          },
          "execution_count": 89
        }
      ]
    },
    {
      "cell_type": "code",
      "metadata": {
        "colab": {
          "base_uri": "https://localhost:8080/"
        },
        "id": "6N0lpLEPhKJC",
        "outputId": "b52dfcc3-5f16-4377-d356-ea46a00ea791"
      },
      "source": [
        "np.ones((2,3))"
      ],
      "execution_count": 90,
      "outputs": [
        {
          "output_type": "execute_result",
          "data": {
            "text/plain": [
              "array([[1., 1., 1.],\n",
              "       [1., 1., 1.]])"
            ]
          },
          "metadata": {
            "tags": []
          },
          "execution_count": 90
        }
      ]
    },
    {
      "cell_type": "code",
      "metadata": {
        "colab": {
          "base_uri": "https://localhost:8080/",
          "height": 311
        },
        "id": "qeC-RFBuhL5y",
        "outputId": "dd2c99ab-137d-404d-90e2-3321a7b097ba"
      },
      "source": [
        "np.ones(2,3)  # wrong"
      ],
      "execution_count": 91,
      "outputs": [
        {
          "output_type": "error",
          "ename": "TypeError",
          "evalue": "ignored",
          "traceback": [
            "\u001b[0;31m---------------------------------------------------------------------------\u001b[0m",
            "\u001b[0;31mTypeError\u001b[0m                                 Traceback (most recent call last)",
            "\u001b[0;32m<ipython-input-91-1f7de6931712>\u001b[0m in \u001b[0;36m<module>\u001b[0;34m()\u001b[0m\n\u001b[0;32m----> 1\u001b[0;31m \u001b[0mnp\u001b[0m\u001b[0;34m.\u001b[0m\u001b[0mones\u001b[0m\u001b[0;34m(\u001b[0m\u001b[0;36m2\u001b[0m\u001b[0;34m,\u001b[0m\u001b[0;36m3\u001b[0m\u001b[0;34m)\u001b[0m\u001b[0;34m\u001b[0m\u001b[0;34m\u001b[0m\u001b[0m\n\u001b[0m",
            "\u001b[0;32m/usr/local/lib/python3.6/dist-packages/numpy/core/numeric.py\u001b[0m in \u001b[0;36mones\u001b[0;34m(shape, dtype, order)\u001b[0m\n\u001b[1;32m    190\u001b[0m \u001b[0;34m\u001b[0m\u001b[0m\n\u001b[1;32m    191\u001b[0m     \"\"\"\n\u001b[0;32m--> 192\u001b[0;31m     \u001b[0ma\u001b[0m \u001b[0;34m=\u001b[0m \u001b[0mempty\u001b[0m\u001b[0;34m(\u001b[0m\u001b[0mshape\u001b[0m\u001b[0;34m,\u001b[0m \u001b[0mdtype\u001b[0m\u001b[0;34m,\u001b[0m \u001b[0morder\u001b[0m\u001b[0;34m)\u001b[0m\u001b[0;34m\u001b[0m\u001b[0;34m\u001b[0m\u001b[0m\n\u001b[0m\u001b[1;32m    193\u001b[0m     \u001b[0mmultiarray\u001b[0m\u001b[0;34m.\u001b[0m\u001b[0mcopyto\u001b[0m\u001b[0;34m(\u001b[0m\u001b[0ma\u001b[0m\u001b[0;34m,\u001b[0m \u001b[0;36m1\u001b[0m\u001b[0;34m,\u001b[0m \u001b[0mcasting\u001b[0m\u001b[0;34m=\u001b[0m\u001b[0;34m'unsafe'\u001b[0m\u001b[0;34m)\u001b[0m\u001b[0;34m\u001b[0m\u001b[0;34m\u001b[0m\u001b[0m\n\u001b[1;32m    194\u001b[0m     \u001b[0;32mreturn\u001b[0m \u001b[0ma\u001b[0m\u001b[0;34m\u001b[0m\u001b[0;34m\u001b[0m\u001b[0m\n",
            "\u001b[0;31mTypeError\u001b[0m: Cannot interpret '3' as a data type"
          ]
        }
      ]
    },
    {
      "cell_type": "code",
      "metadata": {
        "colab": {
          "base_uri": "https://localhost:8080/"
        },
        "id": "aUJ3zn2LhNQq",
        "outputId": "cee70e8f-2808-45fe-988c-ba868f5b291f"
      },
      "source": [
        "# to create an array of 10s\n",
        "10 * np.ones((2,3))"
      ],
      "execution_count": 92,
      "outputs": [
        {
          "output_type": "execute_result",
          "data": {
            "text/plain": [
              "array([[10., 10., 10.],\n",
              "       [10., 10., 10.]])"
            ]
          },
          "metadata": {
            "tags": []
          },
          "execution_count": 92
        }
      ]
    },
    {
      "cell_type": "code",
      "metadata": {
        "colab": {
          "base_uri": "https://localhost:8080/"
        },
        "id": "MydDsaBthUas",
        "outputId": "e7f3c3d5-b57d-4763-b54d-ed994ea60320"
      },
      "source": [
        "#identity matrix\n",
        "np.eye(3)"
      ],
      "execution_count": 93,
      "outputs": [
        {
          "output_type": "execute_result",
          "data": {
            "text/plain": [
              "array([[1., 0., 0.],\n",
              "       [0., 1., 0.],\n",
              "       [0., 0., 1.]])"
            ]
          },
          "metadata": {
            "tags": []
          },
          "execution_count": 93
        }
      ]
    },
    {
      "cell_type": "code",
      "metadata": {
        "colab": {
          "base_uri": "https://localhost:8080/"
        },
        "id": "gLiyhlHrhafd",
        "outputId": "e01a93a5-82b6-4c99-c324-83531dd796f8"
      },
      "source": [
        "np.random.random()"
      ],
      "execution_count": 95,
      "outputs": [
        {
          "output_type": "execute_result",
          "data": {
            "text/plain": [
              "0.6367405783539523"
            ]
          },
          "metadata": {
            "tags": []
          },
          "execution_count": 95
        }
      ]
    },
    {
      "cell_type": "code",
      "metadata": {
        "colab": {
          "base_uri": "https://localhost:8080/"
        },
        "id": "bAJrHu7ch8V3",
        "outputId": "cd9b36d9-0160-499c-f5b4-c9f8ae3bd67e"
      },
      "source": [
        "np.random.random((2,3)) #what distribution they come from doe?\n",
        "#these only tween 0 and 1"
      ],
      "execution_count": 96,
      "outputs": [
        {
          "output_type": "execute_result",
          "data": {
            "text/plain": [
              "array([[0.48459774, 0.18020547, 0.71739769],\n",
              "       [0.52478694, 0.13801451, 0.28888134]])"
            ]
          },
          "metadata": {
            "tags": []
          },
          "execution_count": 96
        }
      ]
    },
    {
      "cell_type": "code",
      "metadata": {
        "colab": {
          "base_uri": "https://localhost:8080/"
        },
        "id": "Sq07-C5CiAC4",
        "outputId": "4c21f96d-0a8d-454c-8984-4df62d131260"
      },
      "source": [
        "# to draw from gaussian, these are neg and pos\n",
        "# from standard dist..mean 0 and variance 1\n",
        "np.random.randn(2,3) # DOES NOT ACCEPT TUPLE, just takes dimension"
      ],
      "execution_count": 97,
      "outputs": [
        {
          "output_type": "execute_result",
          "data": {
            "text/plain": [
              "array([[-0.32006604,  0.83758249,  0.80270028],\n",
              "       [ 0.23781002,  1.47443618, -0.94292293]])"
            ]
          },
          "metadata": {
            "tags": []
          },
          "execution_count": 97
        }
      ]
    },
    {
      "cell_type": "code",
      "metadata": {
        "id": "LmyqIFrbiSlv"
      },
      "source": [
        "R = np.random.randn(10000)"
      ],
      "execution_count": 98,
      "outputs": []
    },
    {
      "cell_type": "code",
      "metadata": {
        "colab": {
          "base_uri": "https://localhost:8080/"
        },
        "id": "r3xP_AuEirjS",
        "outputId": "d6d0163d-8c15-46fd-c3fe-9dc4d4d97e77"
      },
      "source": [
        "R.mean()"
      ],
      "execution_count": 99,
      "outputs": [
        {
          "output_type": "execute_result",
          "data": {
            "text/plain": [
              "0.0051755571221079825"
            ]
          },
          "metadata": {
            "tags": []
          },
          "execution_count": 99
        }
      ]
    },
    {
      "cell_type": "code",
      "metadata": {
        "colab": {
          "base_uri": "https://localhost:8080/"
        },
        "id": "5TbpkcIlitTv",
        "outputId": "5063e20b-4ef1-4223-bbe5-691884558225"
      },
      "source": [
        "np.mean(R)"
      ],
      "execution_count": 100,
      "outputs": [
        {
          "output_type": "execute_result",
          "data": {
            "text/plain": [
              "0.0051755571221079825"
            ]
          },
          "metadata": {
            "tags": []
          },
          "execution_count": 100
        }
      ]
    },
    {
      "cell_type": "code",
      "metadata": {
        "colab": {
          "base_uri": "https://localhost:8080/"
        },
        "id": "HzjsZyU9ixya",
        "outputId": "db38bd0d-c31e-4038-ea7e-58a89273de17"
      },
      "source": [
        "R.var()"
      ],
      "execution_count": 101,
      "outputs": [
        {
          "output_type": "execute_result",
          "data": {
            "text/plain": [
              "1.031968893897821"
            ]
          },
          "metadata": {
            "tags": []
          },
          "execution_count": 101
        }
      ]
    },
    {
      "cell_type": "code",
      "metadata": {
        "colab": {
          "base_uri": "https://localhost:8080/"
        },
        "id": "8-tstAaai1LW",
        "outputId": "ce812353-df7c-4b6b-8966-0827077a2475"
      },
      "source": [
        "np.var(R) #variance"
      ],
      "execution_count": 102,
      "outputs": [
        {
          "output_type": "execute_result",
          "data": {
            "text/plain": [
              "1.031968893897821"
            ]
          },
          "metadata": {
            "tags": []
          },
          "execution_count": 102
        }
      ]
    },
    {
      "cell_type": "code",
      "metadata": {
        "colab": {
          "base_uri": "https://localhost:8080/"
        },
        "id": "p6zNBJCwi3n4",
        "outputId": "cbbdbc36-0663-4cd2-b9ec-14cc9b4b8f04"
      },
      "source": [
        "R.std() #std deviation or the square root of variance"
      ],
      "execution_count": 103,
      "outputs": [
        {
          "output_type": "execute_result",
          "data": {
            "text/plain": [
              "1.0158586978009398"
            ]
          },
          "metadata": {
            "tags": []
          },
          "execution_count": 103
        }
      ]
    },
    {
      "cell_type": "code",
      "metadata": {
        "colab": {
          "base_uri": "https://localhost:8080/"
        },
        "id": "O86mt6HFi6O4",
        "outputId": "cf34c067-c415-4a5e-b341-57e7db2c8319"
      },
      "source": [
        "import math # check if the above stdev is indeed sqrt of var\n",
        "math.sqrt(np.var(R)) # GG no RE"
      ],
      "execution_count": 106,
      "outputs": [
        {
          "output_type": "execute_result",
          "data": {
            "text/plain": [
              "1.0158586978009398"
            ]
          },
          "metadata": {
            "tags": []
          },
          "execution_count": 106
        }
      ]
    },
    {
      "cell_type": "code",
      "metadata": {
        "id": "0-qzzEUtjGok"
      },
      "source": [
        "R= np.random.randn(10000,3) \n",
        "# lets say we have 10k observations each with 3 values\n",
        "# each row is a sample observation, each column is a specific observed measurement"
      ],
      "execution_count": 107,
      "outputs": []
    },
    {
      "cell_type": "code",
      "metadata": {
        "colab": {
          "base_uri": "https://localhost:8080/"
        },
        "id": "DPXXXwr3jefN",
        "outputId": "aa865bae-59a3-4ed9-f4ad-c9e19be60bbb"
      },
      "source": [
        "R.mean(axis=0) # mean of each column"
      ],
      "execution_count": 108,
      "outputs": [
        {
          "output_type": "execute_result",
          "data": {
            "text/plain": [
              "array([-0.0091507 ,  0.00047938,  0.00530669])"
            ]
          },
          "metadata": {
            "tags": []
          },
          "execution_count": 108
        }
      ]
    },
    {
      "cell_type": "code",
      "metadata": {
        "colab": {
          "base_uri": "https://localhost:8080/"
        },
        "id": "_nf1ozZOjiLx",
        "outputId": "c69b67d5-cb99-4c6f-d0f2-dfa15f4916a1"
      },
      "source": [
        "R.mean(axis=1) # these are 10000 rows, mean of each row"
      ],
      "execution_count": 109,
      "outputs": [
        {
          "output_type": "execute_result",
          "data": {
            "text/plain": [
              "array([ 0.58077576,  0.10268115,  0.66689259, ...,  0.22139977,\n",
              "       -0.76035443,  0.49804834])"
            ]
          },
          "metadata": {
            "tags": []
          },
          "execution_count": 109
        }
      ]
    },
    {
      "cell_type": "code",
      "metadata": {
        "colab": {
          "base_uri": "https://localhost:8080/"
        },
        "id": "mkFDvdTOjm8z",
        "outputId": "036b7989-6d03-442a-b384-f737be80ecfb"
      },
      "source": [
        "R.mean(axis=1).shape # should be 10000 rows"
      ],
      "execution_count": 110,
      "outputs": [
        {
          "output_type": "execute_result",
          "data": {
            "text/plain": [
              "(10000,)"
            ]
          },
          "metadata": {
            "tags": []
          },
          "execution_count": 110
        }
      ]
    },
    {
      "cell_type": "code",
      "metadata": {
        "colab": {
          "base_uri": "https://localhost:8080/"
        },
        "id": "ay_n58t4j1bt",
        "outputId": "13183ce3-53de-4440-e010-d668fa36a31e"
      },
      "source": [
        "#each row of R, is a vector of observations\n",
        "# when you have a vector , analog of variance is a covariance\n",
        "np.cov(R)"
      ],
      "execution_count": 111,
      "outputs": [
        {
          "output_type": "execute_result",
          "data": {
            "text/plain": [
              "array([[ 0.77547869, -0.26055396,  0.01396957, ..., -1.11513487,\n",
              "        -0.48775973, -0.38900021],\n",
              "       [-0.26055396,  0.69746746, -0.73685165, ...,  0.76744843,\n",
              "         0.41948167, -0.10649729],\n",
              "       [ 0.01396957, -0.73685165,  0.87914089, ..., -0.49157654,\n",
              "        -0.31560965,  0.27772707],\n",
              "       ...,\n",
              "       [-1.11513487,  0.76744843, -0.49157654, ...,  1.85649326,\n",
              "         0.86599441,  0.40663203],\n",
              "       [-0.48775973,  0.41948167, -0.31560965, ...,  0.86599441,\n",
              "         0.41390351,  0.14527116],\n",
              "       [-0.38900021, -0.10649729,  0.27772707, ...,  0.40663203,\n",
              "         0.14527116,  0.28737831]])"
            ]
          },
          "metadata": {
            "tags": []
          },
          "execution_count": 111
        }
      ]
    },
    {
      "cell_type": "code",
      "metadata": {
        "colab": {
          "base_uri": "https://localhost:8080/"
        },
        "id": "Tq_aMq-lkhIk",
        "outputId": "59fcd7fa-5cec-41ee-87d8-80b0f9028b8e"
      },
      "source": [
        "#gave us a humongous array\n",
        "np.cov(R).shape"
      ],
      "execution_count": 112,
      "outputs": [
        {
          "output_type": "execute_result",
          "data": {
            "text/plain": [
              "(10000, 10000)"
            ]
          },
          "metadata": {
            "tags": []
          },
          "execution_count": 112
        }
      ]
    },
    {
      "cell_type": "code",
      "metadata": {
        "colab": {
          "base_uri": "https://localhost:8080/"
        },
        "id": "hJ6bhOQnklPa",
        "outputId": "4ed3e14e-c351-40e0-cf7f-3557c8dd9f1b"
      },
      "source": [
        "#each column was treated as a vector observation, which is wrong\n",
        "#rest of numpy stack, scikit learn consider each row as a vector obs\n",
        "#instead do\n",
        "np.cov(R.T) # 3 by 3 as expected and is close to identity\n",
        "# that is, each of the columns varies by itself as one \n",
        "# and has some non-1 variance with other columns\n",
        "# this is done over ALL rows super quick"
      ],
      "execution_count": 113,
      "outputs": [
        {
          "output_type": "execute_result",
          "data": {
            "text/plain": [
              "array([[ 0.98193026, -0.00552787,  0.00875047],\n",
              "       [-0.00552787,  1.00388515, -0.01375965],\n",
              "       [ 0.00875047, -0.01375965,  1.00018414]])"
            ]
          },
          "metadata": {
            "tags": []
          },
          "execution_count": 113
        }
      ]
    },
    {
      "cell_type": "code",
      "metadata": {
        "colab": {
          "base_uri": "https://localhost:8080/"
        },
        "id": "dyJD9_FlkuAF",
        "outputId": "cc66ef59-2d74-4448-8e67-e3931d458c92"
      },
      "source": [
        "np.cov(R, rowvar=False) #samezies"
      ],
      "execution_count": 114,
      "outputs": [
        {
          "output_type": "execute_result",
          "data": {
            "text/plain": [
              "array([[ 0.98193026, -0.00552787,  0.00875047],\n",
              "       [-0.00552787,  1.00388515, -0.01375965],\n",
              "       [ 0.00875047, -0.01375965,  1.00018414]])"
            ]
          },
          "metadata": {
            "tags": []
          },
          "execution_count": 114
        }
      ]
    },
    {
      "cell_type": "code",
      "metadata": {
        "colab": {
          "base_uri": "https://localhost:8080/"
        },
        "id": "3jYmHRhUlg2X",
        "outputId": "af56053d-3013-49c5-b1d9-45e19aceeb43"
      },
      "source": [
        "#generating random integers\n",
        "np.random.randint(0,10)"
      ],
      "execution_count": 115,
      "outputs": [
        {
          "output_type": "execute_result",
          "data": {
            "text/plain": [
              "5"
            ]
          },
          "metadata": {
            "tags": []
          },
          "execution_count": 115
        }
      ]
    },
    {
      "cell_type": "code",
      "metadata": {
        "colab": {
          "base_uri": "https://localhost:8080/"
        },
        "id": "CAJFGFGgmCL3",
        "outputId": "80a77547-3584-4732-8cf6-e8854cd2b0a7"
      },
      "source": [
        "np.random.randint(0,10,3) #select 3"
      ],
      "execution_count": 116,
      "outputs": [
        {
          "output_type": "execute_result",
          "data": {
            "text/plain": [
              "array([5, 0, 7])"
            ]
          },
          "metadata": {
            "tags": []
          },
          "execution_count": 116
        }
      ]
    },
    {
      "cell_type": "code",
      "metadata": {
        "colab": {
          "base_uri": "https://localhost:8080/"
        },
        "id": "FtDpR-1tmGTc",
        "outputId": "eebfc44c-7043-4b86-bfd7-94cd4dba94c3"
      },
      "source": [
        "np.random.randint(0,10,15) # repeats as you want 15 numbers between 0 and 10"
      ],
      "execution_count": 117,
      "outputs": [
        {
          "output_type": "execute_result",
          "data": {
            "text/plain": [
              "array([0, 4, 0, 1, 9, 2, 6, 0, 8, 4, 0, 6, 5, 9, 2])"
            ]
          },
          "metadata": {
            "tags": []
          },
          "execution_count": 117
        }
      ]
    },
    {
      "cell_type": "code",
      "metadata": {
        "colab": {
          "base_uri": "https://localhost:8080/"
        },
        "id": "0SqzBINEmIvG",
        "outputId": "2855ef92-87a5-4045-9dce-40d8320f03b2"
      },
      "source": [
        "np.random.randint(0,10,size=(3,3)) #get a matrix of 3 x 3"
      ],
      "execution_count": 118,
      "outputs": [
        {
          "output_type": "execute_result",
          "data": {
            "text/plain": [
              "array([[2, 7, 0],\n",
              "       [0, 3, 8],\n",
              "       [1, 6, 6]])"
            ]
          },
          "metadata": {
            "tags": []
          },
          "execution_count": 118
        }
      ]
    },
    {
      "cell_type": "code",
      "metadata": {
        "colab": {
          "base_uri": "https://localhost:8080/"
        },
        "id": "7D6pcF5emUx3",
        "outputId": "61100c7a-8282-4a05-93bb-45597433e06c"
      },
      "source": [
        "np.random.choice(5) #select a number upto 5, i.e from arange"
      ],
      "execution_count": 120,
      "outputs": [
        {
          "output_type": "execute_result",
          "data": {
            "text/plain": [
              "3"
            ]
          },
          "metadata": {
            "tags": []
          },
          "execution_count": 120
        }
      ]
    },
    {
      "cell_type": "code",
      "metadata": {
        "colab": {
          "base_uri": "https://localhost:8080/"
        },
        "id": "3WhhGoQemeSe",
        "outputId": "8b8acce6-4e9f-4ff8-d1ea-88de821c0fc0"
      },
      "source": [
        "np.arange(5)"
      ],
      "execution_count": 121,
      "outputs": [
        {
          "output_type": "execute_result",
          "data": {
            "text/plain": [
              "array([0, 1, 2, 3, 4])"
            ]
          },
          "metadata": {
            "tags": []
          },
          "execution_count": 121
        }
      ]
    },
    {
      "cell_type": "code",
      "metadata": {
        "colab": {
          "base_uri": "https://localhost:8080/"
        },
        "id": "43Fm2g57mnbw",
        "outputId": "b56d80c7-b029-489f-e3dc-b625b63f0f24"
      },
      "source": [
        "np.random.choice(10, size=(3,3)) #upto 10 pick a random matrix of 3x3"
      ],
      "execution_count": 122,
      "outputs": [
        {
          "output_type": "execute_result",
          "data": {
            "text/plain": [
              "array([[1, 5, 2],\n",
              "       [8, 7, 9],\n",
              "       [5, 4, 8]])"
            ]
          },
          "metadata": {
            "tags": []
          },
          "execution_count": 122
        }
      ]
    },
    {
      "cell_type": "code",
      "metadata": {
        "id": "MxtRYq47msEe"
      },
      "source": [
        "testArr = np.arange(100)"
      ],
      "execution_count": 123,
      "outputs": []
    },
    {
      "cell_type": "code",
      "metadata": {
        "colab": {
          "base_uri": "https://localhost:8080/"
        },
        "id": "77IDr4qSm1I5",
        "outputId": "39d19ac3-ea02-4b15-91f0-08922f7a1794"
      },
      "source": [
        "testArr #large vector of 1..100"
      ],
      "execution_count": 124,
      "outputs": [
        {
          "output_type": "execute_result",
          "data": {
            "text/plain": [
              "array([ 0,  1,  2,  3,  4,  5,  6,  7,  8,  9, 10, 11, 12, 13, 14, 15, 16,\n",
              "       17, 18, 19, 20, 21, 22, 23, 24, 25, 26, 27, 28, 29, 30, 31, 32, 33,\n",
              "       34, 35, 36, 37, 38, 39, 40, 41, 42, 43, 44, 45, 46, 47, 48, 49, 50,\n",
              "       51, 52, 53, 54, 55, 56, 57, 58, 59, 60, 61, 62, 63, 64, 65, 66, 67,\n",
              "       68, 69, 70, 71, 72, 73, 74, 75, 76, 77, 78, 79, 80, 81, 82, 83, 84,\n",
              "       85, 86, 87, 88, 89, 90, 91, 92, 93, 94, 95, 96, 97, 98, 99])"
            ]
          },
          "metadata": {
            "tags": []
          },
          "execution_count": 124
        }
      ]
    },
    {
      "cell_type": "code",
      "metadata": {
        "colab": {
          "base_uri": "https://localhost:8080/"
        },
        "id": "upJ5htU4m2R9",
        "outputId": "0d5078ed-b651-480b-b6e2-44c0681fb935"
      },
      "source": [
        "np.random.choice(testArr,5) #pick any 5 numbers from it"
      ],
      "execution_count": 125,
      "outputs": [
        {
          "output_type": "execute_result",
          "data": {
            "text/plain": [
              "array([29, 73, 12, 90, 39])"
            ]
          },
          "metadata": {
            "tags": []
          },
          "execution_count": 125
        }
      ]
    },
    {
      "cell_type": "code",
      "metadata": {
        "colab": {
          "base_uri": "https://localhost:8080/"
        },
        "id": "6HFVgILZm6Eu",
        "outputId": "537ddeed-163b-496f-9d6b-f95659333785"
      },
      "source": [
        "np.random.choice(testArr,size=(5,5)) #pick a 5x5 array from it, each num unique"
      ],
      "execution_count": 126,
      "outputs": [
        {
          "output_type": "execute_result",
          "data": {
            "text/plain": [
              "array([[56, 46, 27, 27,  6],\n",
              "       [59, 74, 64, 94, 45],\n",
              "       [58, 41, 97, 58,  9],\n",
              "       [74, 40,  8, 84, 12],\n",
              "       [15, 71, 47, 86, 47]])"
            ]
          },
          "metadata": {
            "tags": []
          },
          "execution_count": 126
        }
      ]
    },
    {
      "cell_type": "code",
      "metadata": {
        "colab": {
          "base_uri": "https://localhost:8080/"
        },
        "id": "VTa8Ar5Bm-n7",
        "outputId": "eec3bd64-4ba1-4ed2-b4f2-1ee61216f24b"
      },
      "source": [
        "np.random.choice(testArr,size=(5,5), replace=True) # ok to pick same number twice, like 18 below"
      ],
      "execution_count": 127,
      "outputs": [
        {
          "output_type": "execute_result",
          "data": {
            "text/plain": [
              "array([[23, 79, 14, 83, 96],\n",
              "       [44, 41, 62, 73, 18],\n",
              "       [53, 22, 90, 41, 18],\n",
              "       [25,  4, 81, 33, 93],\n",
              "       [ 0, 85, 36, 89, 60]])"
            ]
          },
          "metadata": {
            "tags": []
          },
          "execution_count": 127
        }
      ]
    },
    {
      "cell_type": "code",
      "metadata": {
        "id": "xw3FPZcBnBnh"
      },
      "source": [
        ""
      ],
      "execution_count": null,
      "outputs": []
    }
  ]
}